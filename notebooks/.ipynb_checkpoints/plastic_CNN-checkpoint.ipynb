{
 "cells": [
  {
   "cell_type": "code",
   "execution_count": 2,
   "metadata": {},
   "outputs": [],
   "source": [
    "import numpy as np # linear algebra\n",
    "import pandas as pd # data processing, CSV file I/O (e.g. pd.read_csv)\n",
    "import cv2 #deal with images\n",
    "import matplotlib.pyplot as plt\n",
    "%matplotlib inline\n",
    "from tqdm import tqdm\n",
    "np.random.seed(42)\n",
    "\n",
    "training = pd.read_csv('../plastic_data/plasticc_train_lightcurves.csv')\n",
    "meta_training = pd.read_csv(\"../plastic_data/plasticc_train_metadata.csv\")\n",
    "merged = training.merge(meta_training, on = \"object_id\")"
   ]
  },
  {
   "cell_type": "code",
   "execution_count": 8,
   "metadata": {},
   "outputs": [
    {
     "name": "stderr",
     "output_type": "stream",
     "text": [
      "100%|██████████| 1/1 [00:00<00:00, 16.25it/s]\n",
      "100%|██████████| 1/1 [00:00<00:00, 17.02it/s]\n"
     ]
    }
   ],
   "source": [
    "###recurrent plot\n",
    "\n",
    "def sigmoid(x):\n",
    "    '''\n",
    "    Returns the sigmoid of a value\n",
    "    '''\n",
    "    return 1/(1+np.exp(-x))\n",
    "\n",
    "def R_matrix(signal, eps):\n",
    "    '''\n",
    "    Given a time series (signal) and an epsilon,\n",
    "    return the Recurrent Plot matrix\n",
    "    '''\n",
    "    R = np.zeros((signal.shape[0], signal.shape[0]))\n",
    "    for i in range(R.shape[0]):\n",
    "        for j in range(R.shape[1]):\n",
    "            R[i][j] = np.heaviside((eps - abs(signal[i] - signal[j])),1)\n",
    "    return R\n",
    "\n",
    "#using sigmoid rather than heaviside\n",
    "#because in this dataset the epsilon parameter needs to\n",
    "#change from object to object and therefore should be learned as well\n",
    "def R_matrix_modified(signal):\n",
    "    '''\n",
    "    Given a time series (signal) and an epsilon,\n",
    "    return the modified Recurrent Plot matrix\n",
    "    using sigmoid rather than heaviside\n",
    "    '''\n",
    "    R = np.zeros((signal.shape[0], signal.shape[0]))\n",
    "    for i in range(R.shape[0]):\n",
    "        for j in range(R.shape[1]):\n",
    "            R[i][j] = sigmoid((abs(signal[i] - signal[j])))\n",
    "    return R\n",
    "\n",
    "def create_objects_dict(merged_dataset):\n",
    "    '''\n",
    "    Input: dataset containing both training data and metadata\n",
    "    Creates a dictionary using each object as keys and\n",
    "    one R matrix for each passband in that object\n",
    "    '''\n",
    "    objects = {}\n",
    "    for obj in tqdm(np.unique(merged_dataset.object_id)):\n",
    "        R_passbands = []\n",
    "        for passband in np.unique(merged_dataset.passband):\n",
    "            obj_flux = merged_dataset[(merged_dataset.object_id == obj) & (merged_dataset.passband == passband)].flux.values\n",
    "            R_passbands.append(R_matrix_modified(obj_flux))\n",
    "        objects[obj] = (np.asarray(R_passbands), max(merged_dataset[merged_dataset.object_id == obj].target))\n",
    "    return objects\n",
    "\n",
    "def get_minmax_shapes(obj_R_matrices):\n",
    "    '''\n",
    "    Given an R matrix, get the min and max width \n",
    "    to be used to crop and let all images from a given\n",
    "    object be of the same size so they can be concatenated\n",
    "    '''\n",
    "    min_length = 0\n",
    "    max_length = 0\n",
    "    for passband in np.unique(merged.passband):\n",
    "        if passband == 0:\n",
    "            length = len(obj_R_matrices[passband])\n",
    "            min_length = length\n",
    "            max_length = length\n",
    "        else:\n",
    "            length = len(obj_R_matrices[passband])\n",
    "            min_length = min(min_length, length)\n",
    "            max_length = max(max_length, length)\n",
    "    return (min_length, max_length)\n",
    "\n",
    "def crop_obj_plots(objects):\n",
    "    '''\n",
    "    Accepts a dictionary where each key is a different object\n",
    "    and each value is a tuple - one slot with a list of R matrices and \n",
    "    the other with the target value (object class)\n",
    "    '''\n",
    "    for obj in tqdm(objects.keys()):\n",
    "        min_len, max_len = get_minmax_shapes(objects[obj][0])\n",
    "        for passband in np.unique(merged.passband):\n",
    "            objects[obj][0][passband] = objects[obj][0][passband][:min_len, :min_len]\n",
    "    return objects\n",
    "\n",
    "objects = create_objects_dict(merged[merged['object_id']==615])\n",
    "cropped_objects = crop_obj_plots(objects)"
   ]
  },
  {
   "cell_type": "code",
   "execution_count": 15,
   "metadata": {},
   "outputs": [
    {
     "data": {
      "text/plain": [
       "array([[0.5       , 1.        , 1.        , ..., 0.99999989, 1.        ,\n",
       "        1.        ],\n",
       "       [1.        , 0.5       , 0.997301  , ..., 1.        , 1.        ,\n",
       "        1.        ],\n",
       "       [1.        , 0.997301  , 0.5       , ..., 1.        , 1.        ,\n",
       "        1.        ],\n",
       "       ...,\n",
       "       [0.99999989, 1.        , 1.        , ..., 0.5       , 1.        ,\n",
       "        1.        ],\n",
       "       [1.        , 1.        , 1.        , ..., 1.        , 0.5       ,\n",
       "        1.        ],\n",
       "       [1.        , 1.        , 1.        , ..., 1.        , 1.        ,\n",
       "        0.5       ]])"
      ]
     },
     "execution_count": 15,
     "metadata": {},
     "output_type": "execute_result"
    }
   ],
   "source": [
    "cropped_objects[615][0][5]"
   ]
  },
  {
   "cell_type": "code",
   "execution_count": null,
   "metadata": {},
   "outputs": [],
   "source": []
  }
 ],
 "metadata": {
  "kernelspec": {
   "display_name": "Python 3",
   "language": "python",
   "name": "python3"
  },
  "language_info": {
   "codemirror_mode": {
    "name": "ipython",
    "version": 3
   },
   "file_extension": ".py",
   "mimetype": "text/x-python",
   "name": "python",
   "nbconvert_exporter": "python",
   "pygments_lexer": "ipython3",
   "version": "3.8.5"
  }
 },
 "nbformat": 4,
 "nbformat_minor": 4
}
