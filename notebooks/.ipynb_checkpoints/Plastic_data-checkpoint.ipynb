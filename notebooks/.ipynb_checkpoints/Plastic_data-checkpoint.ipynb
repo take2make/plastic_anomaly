{
 "cells": [
  {
   "cell_type": "code",
   "execution_count": 3,
   "metadata": {},
   "outputs": [],
   "source": [
    "import pandas as pd\n",
    "import numpy as np\n",
    "import matplotlib.pyplot as plt\n",
    "import os"
   ]
  },
  {
   "cell_type": "code",
   "execution_count": 4,
   "metadata": {},
   "outputs": [
    {
     "data": {
      "text/plain": [
       "'\\n!wget https://zenodo.org/record/2539456/files/plasticc_train_lightcurves.csv.gz\\n!wget https://zenodo.org/record/2539456/files/plasticc_train_metadata.csv.gz\\n!gzip -d plasticc_train_lightcurves.csv.gz\\n!gzip -d plasticc_train_metadata.csv.gz\\n!mv plasticc_train_lightcurves.csv ../Data\\n!mv plasticc_train_metadata.csv ../Data\\n'"
      ]
     },
     "execution_count": 4,
     "metadata": {},
     "output_type": "execute_result"
    }
   ],
   "source": [
    "\"\"\"\n",
    "!wget https://zenodo.org/record/2539456/files/plasticc_train_lightcurves.csv.gz\n",
    "!wget https://zenodo.org/record/2539456/files/plasticc_train_metadata.csv.gz\n",
    "!gzip -d plasticc_train_lightcurves.csv.gz\n",
    "!gzip -d plasticc_train_metadata.csv.gz\n",
    "!mv plasticc_train_lightcurves.csv ../Data\n",
    "!mv plasticc_train_metadata.csv ../Data\n",
    "\"\"\""
   ]
  },
  {
   "cell_type": "code",
   "execution_count": 5,
   "metadata": {},
   "outputs": [],
   "source": [
    "DATA_DIR = \"../Data/\""
   ]
  },
  {
   "cell_type": "code",
   "execution_count": 78,
   "metadata": {},
   "outputs": [],
   "source": [
    "class LightCurve():\n",
    "    _pbnames = ['u','g','r','i','z','y']\n",
    "    _cad_num = {\"low\":0, \"high\":1}\n",
    "    _targets = [6, 15, 16, 42, 52, 53, 62, 64, 65, 67, 88, 90, 92, 95]\n",
    "    \n",
    "    def __init__(self, data_file=\"plasticc_train_lightcurves.csv\", target_file='plasticc_train_metadata.csv', cadence=\"low\"):\n",
    "        raw_data = pd.read_csv(os.path.join(DATA_DIR, data_file))\n",
    "        target_data = pd.read_csv(os.path.join(DATA_DIR, target_file))\n",
    "        self.targets = target_data['target'].values\n",
    "        \n",
    "        self.cadence = cadence\n",
    "        self.light_curves = raw_data[raw_data[\"detected_bool\"]==self._cad_num[cadence]]\n",
    "        self.unique_ids = self.light_curves['object_id'].unique()\n",
    "        self.ids = {_id: self.unique_ids[_id] for _id in np.arange(len(self.unique_ids)) }\n",
    "    \n",
    "    def get_length(self):\n",
    "        return len(self.unique_ids)\n",
    "   \n",
    "    def show_lightcurves_by_id(self, _id, band=\"all\"):\n",
    "        object_id = self.ids[_id]\n",
    "        curves = self.light_curves[self.light_curves['object_id']==object_id]\n",
    "        if band != \"all\":\n",
    "            index_band = self._pbnames.index(band)\n",
    "            curve_in_band = curves[curves['passband']==index_band]\n",
    "            curve_x = curve_in_band['mjd'].values\n",
    "            curve_y = curve_in_band['flux'].values\n",
    "            plt.scatter(curve_x, curve_y)\n",
    "            plt.title(f\"{object_id=}\")\n",
    "            plt.show()\n",
    "            return\n",
    "        \n",
    "        for index_band in range(len(self._pbnames)):\n",
    "            curve_in_band = curves[curves['passband']==index_band]\n",
    "            curves_x = curve_in_band['mjd'].values\n",
    "            curves_y = curve_in_band['flux'].values\n",
    "            plt.scatter(curves_x, curves_y)\n",
    "            plt.title(f\"{object_id=}\")\n",
    "        plt.show()\n",
    "        return\n",
    "    \n",
    "    def get_matrix_lightcurve(self, _id, band_height=5, band=\"all\"):\n",
    "        object_id = self.ids[_id]\n",
    "        curves = self.light_curves[self.light_curves['object_id']==object_id]\n",
    "        k = 6 if band==\"all\" else 1\n",
    "        if self.cadence == \"high\":\n",
    "            data = np.zeros((k*band_height,1116))\n",
    "        elif self.cadence == \"low\":\n",
    "            data = np.zeros((k*band_height,1116))\n",
    "        \n",
    "        if band != \"all\":\n",
    "            index_band = self._pbnames.index(band)\n",
    "            curve = self.light_curves[self.light_curves['object_id']==object_id]\n",
    "            data_band = curve[curve[\"passband\"]==index_band][['mjd','flux']].values\n",
    "\n",
    "            data_band[:,0] -= data_band[:,0].min()\n",
    "            data_band[:,0] = np.round(data_band[:,0])\n",
    "\n",
    "            for i in range(band_height):\n",
    "                data[i][data_band[:,0].astype(int)] = data_band[:,1]\n",
    "        \n",
    "            return data, self._targets.index(self.targets[_id])\n",
    "    \n",
    "        \n",
    "        for index_band in range(len(self._pbnames)):\n",
    "            curve = self.light_curves[self.light_curves['object_id']==object_id]\n",
    "            data_band = curve[curve[\"passband\"]==index_band][['mjd','flux']].values\n",
    "            if len(data_band)>900:\n",
    "                return data, -1\n",
    "            if len(data_band)==0: \n",
    "                continue\n",
    "            # --- normilize time --- #\n",
    "            data_band[:,0] -= data_band[:,0].min()\n",
    "            data_band[:,0] = np.round(data_band[:,0])\n",
    "            # ---------------------- #\n",
    "            for m in np.arange(index_band*band_height, band_height*(index_band+1)):\n",
    "                data[m,data_band[:,0].astype(int)] = data_band[:,1]\n",
    "            \n",
    "            \"\"\"\n",
    "            for i in np.arange(len(data[0])):\n",
    "                if data[index_band][i].max() != 0:\n",
    "                    data[index_band][i] -= data.min()\n",
    "                    data[index_band][i] = data[index_band][i]/data.max()*255\n",
    "             \"\"\"\n",
    "        return data, self._targets.index(self.targets[_id])\n",
    "    \n",
    "    def compress_matrix_lightcurve(self, _id, size=(30, 100, 5)):\n",
    "        band_height = size[2]\n",
    "        matrix, target = self.get_matrix_lightcurve(_id, band_height)\n",
    "        \n",
    "        zip_matrix = np.zeros((size[0], size[1]))\n",
    "        \n",
    "        for row in np.arange(0, matrix.shape[0], matrix.shape[0]//band_height):\n",
    "            for col in np.arange(0, matrix.shape[1], matrix.shape[1]//size[1]):\n",
    "                data, n = 0, 0\n",
    "                for sub_col in np.arange(col, col + matrix.shape[1]//size[1]):\n",
    "                    data += matrix[row, sub_col] \n",
    "                    n += 1\n",
    "                for sub_row in np.arange(row, row + matrix.shape[0]//band_height):\n",
    "                    zip_matrix[sub_row, col//(matrix.shape[1]//size[1])] = data/n\n",
    "                    \n",
    "        zip_matrix -= zip_matrix.min()\n",
    "        zip_matrix = zip_matrix/zip_matrix.max()*255\n",
    "        \n",
    "        return zip_matrix, int(target)\n",
    "    \n",
    "    def load_all(self, length=30, size=(36, 36, 6)):\n",
    "        all_data = np.zeros((length, size[0], size[1]))\n",
    "        all_targets = np.zeros((length, 1))\n",
    "        for i in np.arange(length):\n",
    "            all_data[i], all_targets[i] = self.compress_matrix_lightcurve(i, size)\n",
    "        return all_data, all_targets.reshape(1,-1)"
   ]
  },
  {
   "cell_type": "code",
   "execution_count": 80,
   "metadata": {},
   "outputs": [
    {
     "name": "stdout",
     "output_type": "stream",
     "text": [
      "3\n"
     ]
    },
    {
     "data": {
      "text/plain": [
       "(0.0, 255.0)"
      ]
     },
     "execution_count": 80,
     "metadata": {},
     "output_type": "execute_result"
    },
    {
     "data": {
      "image/png": "[encoded data removed]",
      "text/plain": [
       "<Figure size 600x400 with 1 Axes>"
      ]
     },
     "metadata": {
      "needs_background": "light"
     },
     "output_type": "display_data"
    }
   ],
   "source": [
    "lc = LightCurve(\"plasticc_train_lightcurves.csv\", \"plasticc_train_metadata.csv\", \"high\")\n",
    "plt.figure(dpi=100)\n",
    "zip_data, target = lc.compress_matrix_lightcurve(30, size=(36,36,6))\n",
    "print(target)\n",
    "plt.imshow(zip_data, cmap='gray')\n",
    "zip_data.min(), zip_data.max()"
   ]
  },
  {
   "cell_type": "code",
   "execution_count": 33,
   "metadata": {},
   "outputs": [
    {
     "data": {
      "image/png": "[encoded data removed]",
      "text/plain": [
       "<Figure size 432x288 with 1 Axes>"
      ]
     },
     "metadata": {
      "needs_background": "light"
     },
     "output_type": "display_data"
    }
   ],
   "source": [
    "lc = LightCurve(\"plasticc_train_lightcurves.csv\", \"plasticc_train_metadata.csv\", \"high\")\n",
    "lc.show_lightcurves_by_id(3400, \"all\")"
   ]
  },
  {
   "cell_type": "markdown",
   "metadata": {},
   "source": [
    "# preprocessing data"
   ]
  },
  {
   "cell_type": "code",
   "execution_count": 55,
   "metadata": {},
   "outputs": [],
   "source": [
    "import torch"
   ]
  },
  {
   "cell_type": "code",
   "execution_count": 56,
   "metadata": {},
   "outputs": [],
   "source": [
    "from sklearn.model_selection import train_test_split"
   ]
  },
  {
   "cell_type": "code",
   "execution_count": 81,
   "metadata": {},
   "outputs": [],
   "source": [
    "lc = LightCurve(\"plasticc_train_lightcurves.csv\", \"plasticc_train_metadata.csv\", \"high\")\n",
    "length = lc.get_length()"
   ]
  },
  {
   "cell_type": "code",
   "execution_count": 82,
   "metadata": {},
   "outputs": [],
   "source": [
    "data, targets = lc.load_all(length//2)"
   ]
  },
  {
   "cell_type": "code",
   "execution_count": 85,
   "metadata": {},
   "outputs": [],
   "source": [
    "X_train, X_test, y_train, y_test = train_test_split(\n",
    "    data, \n",
    "    targets[0], \n",
    "    test_size=0.3, \n",
    "    shuffle=True)"
   ]
  },
  {
   "cell_type": "code",
   "execution_count": 86,
   "metadata": {},
   "outputs": [],
   "source": [
    "X_train, X_val, y_train, y_val = train_test_split(\n",
    "    X_train, \n",
    "    y_train, \n",
    "    test_size=0.2, \n",
    "    shuffle=True)"
   ]
  },
  {
   "cell_type": "code",
   "execution_count": 87,
   "metadata": {},
   "outputs": [
    {
     "name": "stdout",
     "output_type": "stream",
     "text": [
      "train size (2196, 36, 36) validation size (550, 36, 36) test_size (1178, 36, 36)\n"
     ]
    }
   ],
   "source": [
    "print(f\"train size {X_train.shape} validation size {X_val.shape} test_size {X_test.shape}\")"
   ]
  },
  {
   "cell_type": "code",
   "execution_count": 88,
   "metadata": {},
   "outputs": [],
   "source": [
    "X_train = torch.FloatTensor(X_train)\n",
    "X_test = torch.FloatTensor(X_test)\n",
    "X_val = torch.FloatTensor(X_val)\n",
    "y_train = torch.LongTensor(y_train)\n",
    "y_test = torch.LongTensor(y_test)\n",
    "y_val = torch.LongTensor(y_val)"
   ]
  },
  {
   "cell_type": "code",
   "execution_count": 89,
   "metadata": {},
   "outputs": [
    {
     "data": {
      "text/plain": [
       "tensor([10,  3,  8, 13, 11,  7,  8, 11,  0,  9,  3,  3, 12,  8,  3, 11, 11, 11,\n",
       "         8,  8,  2,  2,  2, 11,  3,  8, 11, 13,  8,  1,  8, 11, 12,  3, 10,  6,\n",
       "         8, 11,  4, 11, 11,  8, 13, 11,  2, 10,  4, 10,  8,  3,  8, 11,  2,  9,\n",
       "        12,  4,  8, 11,  6, 11,  1, 10,  8,  3,  8, 11, 13,  3,  3,  6,  6, 11,\n",
       "         6,  2,  8,  2, 13,  2, 11, 11, 11,  9, 11, 11, 10,  2, 12,  8, 11,  8,\n",
       "        10,  3,  1, 11,  8, 11,  2, 13, 11, 11,  8,  8, 10, 11, 11,  2,  4,  8,\n",
       "         2,  8,  2,  3, 11,  6,  8, 11,  3,  3,  6, 11,  2,  3, 11,  1,  2,  3,\n",
       "         8, 12, 10,  3,  3,  2, 11, 11,  8,  3,  4,  3,  8,  3,  8,  3,  3, 11,\n",
       "         2,  7, 10, 11, 11,  2, 11, 11, 11, 11, 11,  9,  8,  8, 13,  9,  3, 11,\n",
       "         9,  8,  2,  3,  3,  8,  8, 11,  3,  2,  6, 11,  1, 11,  2, 11, 10, 11,\n",
       "        13, 11,  3, 11,  9, 11,  8,  8,  2,  2,  7, 11,  6,  0,  8, 11, 11,  7,\n",
       "        11,  3,  6,  8,  3,  8,  8, 10,  8, 12,  4, 11,  2, 11,  2,  2, 11,  6,\n",
       "         8,  6,  3, 11,  8,  1,  3, 11, 11,  3,  8, 11,  2,  9, 11,  2,  3,  6,\n",
       "        11, 11, 11,  3,  8, 13,  2,  3,  2, 11,  6, 11,  8,  6, 11,  6, 11, 13,\n",
       "        11,  4,  3,  3,  8,  8,  1, 12,  2,  3, 12,  6,  8,  8, 11, 11,  2,  7,\n",
       "        11, 10,  9,  5,  2,  2, 11, 10, 11, 11,  2,  8, 11,  2,  4,  9,  3, 11,\n",
       "        11,  6,  6,  3, 11,  8, 12,  3,  3,  9,  8, 11,  6, 11,  8,  2,  2, 11,\n",
       "        12, 11,  8,  3,  8,  8,  3,  2,  3,  2,  9,  8, 11, 11, 10,  1, 11,  8,\n",
       "         8,  4,  1,  1,  3, 11,  7, 10, 10,  2,  3,  8, 11,  3,  2, 11,  9,  3,\n",
       "         8, 11, 10,  8,  8,  4, 10, 10,  1, 11, 11, 11,  0, 11,  8, 12, 11,  1,\n",
       "        13, 12,  2,  2,  8, 11,  6, 10, 11, 11,  2, 12,  3,  6, 11,  2, 10,  3,\n",
       "        11, 11, 11,  6,  3, 11,  1,  2,  8,  3, 12,  3, 11, 11,  8,  3, 13,  2,\n",
       "        11,  8,  1, 10,  3,  9, 11,  1, 11, 11,  1,  3,  6, 11,  4,  1, 11,  6,\n",
       "         3,  9,  2, 11, 13,  6,  2, 11, 11,  8,  6, 11, 11, 11,  3, 12,  6, 11,\n",
       "        11,  6, 11,  3, 11,  3, 11, 11, 11,  6, 11,  8, 11,  4, 11,  7,  2, 11,\n",
       "        12, 11,  8, 11,  8, 11, 11, 11,  5,  3,  8,  3,  3,  8, 11,  3,  6,  2,\n",
       "        12,  2, 11,  8,  3,  4, 11, 13, 11,  6, 11, 11,  2,  1,  8,  1,  8, 10,\n",
       "         3,  8, 11, 11,  4,  8,  1,  8,  8, 12,  9,  3,  2,  9,  3, 11, 11,  4,\n",
       "         2, 11, 11, 11,  1,  6,  4,  3,  3, 11, 12, 11, 11, 11, 10,  8, 10,  3,\n",
       "        13,  8,  6, 11,  1, 10,  8, 11,  3, 11,  6,  3,  8, 11,  1, 11,  3, 11,\n",
       "        11, 11,  2, 11,  8,  6, 12, 11, 11, 11])"
      ]
     },
     "execution_count": 89,
     "metadata": {},
     "output_type": "execute_result"
    }
   ],
   "source": [
    "y_val"
   ]
  },
  {
   "cell_type": "code",
   "execution_count": 90,
   "metadata": {},
   "outputs": [
    {
     "data": {
      "text/plain": [
       "torch.Size([2196, 36, 36])"
      ]
     },
     "execution_count": 90,
     "metadata": {},
     "output_type": "execute_result"
    }
   ],
   "source": [
    "X_train.shape"
   ]
  },
  {
   "cell_type": "code",
   "execution_count": 91,
   "metadata": {},
   "outputs": [],
   "source": [
    "X_train = X_train.unsqueeze(1).float()\n",
    "X_test = X_test.unsqueeze(1).float()\n",
    "X_val = X_val.unsqueeze(1).float()"
   ]
  },
  {
   "cell_type": "code",
   "execution_count": 92,
   "metadata": {},
   "outputs": [
    {
     "data": {
      "text/plain": [
       "torch.Size([2196, 1, 36, 36])"
      ]
     },
     "execution_count": 92,
     "metadata": {},
     "output_type": "execute_result"
    }
   ],
   "source": [
    "X_train.shape"
   ]
  },
  {
   "cell_type": "markdown",
   "metadata": {},
   "source": [
    "# Neural Net"
   ]
  },
  {
   "cell_type": "code",
   "execution_count": 93,
   "metadata": {},
   "outputs": [],
   "source": [
    "class ConvNet(torch.nn.Module):\n",
    "    def __init__(self):\n",
    "        super(ConvNet, self).__init__()\n",
    "        \n",
    "        self.conv1 = torch.nn.Conv2d(\n",
    "            in_channels=1, out_channels=6, kernel_size=5, padding=2)\n",
    "        self.act1  = torch.nn.Tanh()\n",
    "        self.pool1 = torch.nn.MaxPool2d(kernel_size=2, stride=2)\n",
    "       \n",
    "        self.conv2 = torch.nn.Conv2d(\n",
    "            in_channels=6, out_channels=16, kernel_size=5, padding=0)\n",
    "        self.act2  = torch.nn.Tanh()\n",
    "        self.pool2 = torch.nn.MaxPool2d(kernel_size=2, stride=2)\n",
    "        \n",
    "        self.fc1   = torch.nn.Linear(7 * 7 * 16, 120)\n",
    "        self.act3  = torch.nn.Tanh()\n",
    "        \n",
    "        self.fc2   = torch.nn.Linear(120, 84)\n",
    "        self.act4  = torch.nn.Tanh()\n",
    "        \n",
    "        self.fc3   = torch.nn.Linear(84, 14)\n",
    "    \n",
    "    def forward(self, x):\n",
    "        \n",
    "        x = self.conv1(x)\n",
    "        x = self.act1(x)\n",
    "        x = self.pool1(x)\n",
    "        \n",
    "        x = self.conv2(x)\n",
    "        x = self.act2(x)\n",
    "        x = self.pool2(x)\n",
    "        \n",
    "        x = x.view(x.size(0), x.size(1) * x.size(2) * x.size(3))\n",
    "\n",
    "        x = self.fc1(x)\n",
    "        x = self.act3(x)\n",
    "        x = self.fc2(x)\n",
    "        x = self.act4(x)\n",
    "        x = self.fc3(x)\n",
    "        \n",
    "        return x\n",
    "    "
   ]
  },
  {
   "cell_type": "code",
   "execution_count": 94,
   "metadata": {},
   "outputs": [],
   "source": [
    "net = ConvNet()\n",
    "device = torch.device('cpu')\n",
    "loss = torch.nn.CrossEntropyLoss()\n",
    "optimizer = torch.optim.Adam(net.parameters(), lr=1.0e-3)"
   ]
  },
  {
   "cell_type": "code",
   "execution_count": 100,
   "metadata": {},
   "outputs": [
    {
     "name": "stdout",
     "output_type": "stream",
     "text": [
      "current epoch 0/100\n",
      "current epoch 1/100\n",
      "current epoch 2/100\n",
      "current epoch 3/100\n",
      "current epoch 4/100\n",
      "current epoch 5/100\n",
      "current epoch 6/100\n",
      "current epoch 7/100\n",
      "current epoch 8/100\n",
      "current epoch 9/100\n",
      "current epoch 10/100\n",
      "current epoch 11/100\n",
      "current epoch 12/100\n",
      "current epoch 13/100\n",
      "current epoch 14/100\n",
      "current epoch 15/100\n",
      "current epoch 16/100\n",
      "current epoch 17/100\n",
      "current epoch 18/100\n",
      "current epoch 19/100\n",
      "current epoch 20/100\n",
      "current epoch 21/100\n",
      "current epoch 22/100\n",
      "current epoch 23/100\n",
      "current epoch 24/100\n",
      "current epoch 25/100\n",
      "current epoch 26/100\n",
      "current epoch 27/100\n",
      "current epoch 28/100\n",
      "current epoch 29/100\n",
      "current epoch 30/100\n",
      "current epoch 31/100\n",
      "current epoch 32/100\n",
      "current epoch 33/100\n",
      "current epoch 34/100\n",
      "current epoch 35/100\n",
      "current epoch 36/100\n",
      "current epoch 37/100\n",
      "current epoch 38/100\n",
      "current epoch 39/100\n",
      "current epoch 40/100\n",
      "current epoch 41/100\n",
      "current epoch 42/100\n",
      "current epoch 43/100\n",
      "current epoch 44/100\n",
      "current epoch 45/100\n",
      "current epoch 46/100\n",
      "current epoch 47/100\n",
      "current epoch 48/100\n",
      "current epoch 49/100\n",
      "current epoch 50/100\n",
      "current epoch 51/100\n",
      "current epoch 52/100\n",
      "current epoch 53/100\n",
      "current epoch 54/100\n",
      "current epoch 55/100\n",
      "current epoch 56/100\n",
      "current epoch 57/100\n",
      "current epoch 58/100\n",
      "current epoch 59/100\n",
      "current epoch 60/100\n",
      "current epoch 61/100\n",
      "current epoch 62/100\n",
      "current epoch 63/100\n",
      "current epoch 64/100\n",
      "current epoch 65/100\n",
      "current epoch 66/100\n",
      "current epoch 67/100\n",
      "current epoch 68/100\n",
      "current epoch 69/100\n",
      "current epoch 70/100\n",
      "current epoch 71/100\n",
      "current epoch 72/100\n",
      "current epoch 73/100\n",
      "current epoch 74/100\n",
      "current epoch 75/100\n",
      "current epoch 76/100\n",
      "current epoch 77/100\n",
      "current epoch 78/100\n",
      "current epoch 79/100\n",
      "current epoch 80/100\n",
      "current epoch 81/100\n",
      "current epoch 82/100\n",
      "current epoch 83/100\n",
      "current epoch 84/100\n",
      "current epoch 85/100\n",
      "current epoch 86/100\n",
      "current epoch 87/100\n",
      "current epoch 88/100\n",
      "current epoch 89/100\n",
      "current epoch 90/100\n",
      "current epoch 91/100\n",
      "current epoch 92/100\n",
      "current epoch 93/100\n",
      "current epoch 94/100\n",
      "current epoch 95/100\n",
      "current epoch 96/100\n",
      "current epoch 97/100\n",
      "current epoch 98/100\n",
      "current epoch 99/100\n"
     ]
    }
   ],
   "source": [
    "batch_size = 100\n",
    "\n",
    "train_accuracy_history = []\n",
    "train_loss_history = []\n",
    "val_accuracy_history = []\n",
    "val_loss_history = []\n",
    "\n",
    "X_val = X_val.to(device)\n",
    "y_val = y_val.to(device)\n",
    "X_train = X_train.to(device)\n",
    "y_train = y_train.to(device)\n",
    "\n",
    "for epoch in range(100):\n",
    "    order = np.random.permutation(len(X_train))\n",
    "    for start_index in range(0, len(X_train), batch_size):\n",
    "        optimizer.zero_grad()\n",
    "        \n",
    "        batch_indexes = order[start_index:start_index+batch_size]\n",
    "        \n",
    "        X_batch = X_train[batch_indexes].to(device)\n",
    "        y_batch = y_train[batch_indexes].to(device)\n",
    "        \n",
    "        preds = net.forward(X_batch) \n",
    "        \n",
    "        loss_value = loss(preds, y_batch)\n",
    "        loss_value.backward()\n",
    "        \n",
    "        optimizer.step()\n",
    "        \n",
    "    test_preds = net.forward(X_val)\n",
    "    val_loss_history.append(loss(test_preds, y_val).data.cpu())\n",
    "    accuracy = (test_preds.argmax(dim=1) == y_val).float().mean().data.cpu()\n",
    "    val_accuracy_history.append(accuracy)\n",
    "    \n",
    "    train_preds = net.forward(X_train)\n",
    "    train_loss_history.append(loss(train_preds, y_train).data.cpu())\n",
    "    train_accuracy = (train_preds.argmax(dim=1) == y_train).float().mean().data.cpu()\n",
    "    train_accuracy_history.append(train_accuracy)\n",
    "    \n",
    "    print(f'current epoch {epoch}/100')"
   ]
  },
  {
   "cell_type": "code",
   "execution_count": 108,
   "metadata": {},
   "outputs": [
    {
     "data": {
      "text/plain": [
       "[<matplotlib.lines.Line2D at 0x7f704c7f5c40>]"
      ]
     },
     "execution_count": 108,
     "metadata": {},
     "output_type": "execute_result"
    },
    {
     "data": {
      "image/png": "[encoded data removed]",
      "text/plain": [
       "<Figure size 432x288 with 1 Axes>"
      ]
     },
     "metadata": {
      "needs_background": "light"
     },
     "output_type": "display_data"
    }
   ],
   "source": [
    "plt.plot(train_accuracy_history, 'r')"
   ]
  },
  {
   "cell_type": "code",
   "execution_count": null,
   "metadata": {},
   "outputs": [],
   "source": []
  }
 ],
 "metadata": {
  "kernelspec": {
   "display_name": "Python 3",
   "language": "python",
   "name": "python3"
  },
  "language_info": {
   "codemirror_mode": {
    "name": "ipython",
    "version": 3
   },
   "file_extension": ".py",
   "mimetype": "text/x-python",
   "name": "python",
   "nbconvert_exporter": "python",
   "pygments_lexer": "ipython3",
   "version": "3.8.5"
  }
 },
 "nbformat": 4,
 "nbformat_minor": 4
}
