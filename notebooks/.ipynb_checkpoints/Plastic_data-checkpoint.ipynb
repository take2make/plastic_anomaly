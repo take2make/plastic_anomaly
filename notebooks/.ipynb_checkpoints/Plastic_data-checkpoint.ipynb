{
 "cells": [
  {
   "cell_type": "code",
   "execution_count": 6,
   "metadata": {},
   "outputs": [],
   "source": [
    "import pandas as pd\n",
    "import numpy as np\n",
    "import matplotlib.pyplot as plt\n",
    "import os"
   ]
  },
  {
   "cell_type": "code",
   "execution_count": 7,
   "metadata": {},
   "outputs": [
    {
     "name": "stdout",
     "output_type": "stream",
     "text": [
      "--2021-04-18 16:06:45--  https://zenodo.org/record/2539456/files/plasticc_train_lightcurves.csv.gz\n",
      "Resolving zenodo.org (zenodo.org)... 137.138.76.77\n",
      "Connecting to zenodo.org (zenodo.org)|137.138.76.77|:443... connected.\n",
      "HTTP request sent, awaiting response... 200 OK\n",
      "Length: 21553100 (21M) [application/octet-stream]\n",
      "Saving to: ‘plasticc_train_lightcurves.csv.gz’\n",
      "\n",
      "plasticc_train_ligh 100%[===================>]  20,55M  10,6MB/s    in 1,9s    \n",
      "\n",
      "2021-04-18 16:06:48 (10,6 MB/s) - ‘plasticc_train_lightcurves.csv.gz’ saved [21553100/21553100]\n",
      "\n",
      "--2021-04-18 16:06:48--  https://zenodo.org/record/2539456/files/plasticc_train_metadata.csv.gz\n",
      "Resolving zenodo.org (zenodo.org)... 137.138.76.77\n",
      "Connecting to zenodo.org (zenodo.org)|137.138.76.77|:443... connected.\n",
      "HTTP request sent, awaiting response... 200 OK\n",
      "Length: 370350 (362K) [application/octet-stream]\n",
      "Saving to: ‘plasticc_train_metadata.csv.gz’\n",
      "\n",
      "plasticc_train_meta 100%[===================>] 361,67K  1,68MB/s    in 0,2s    \n",
      "\n",
      "2021-04-18 16:06:49 (1,68 MB/s) - ‘plasticc_train_metadata.csv.gz’ saved [370350/370350]\n",
      "\n"
     ]
    }
   ],
   "source": [
    "!wget https://zenodo.org/record/2539456/files/plasticc_train_lightcurves.csv.gz\n",
    "!wget https://zenodo.org/record/2539456/files/plasticc_train_metadata.csv.gz\n",
    "!gzip -d plasticc_train_lightcurves.csv.gz\n",
    "!gzip -d plasticc_train_metadata.csv.gz\n",
    "!mv plasticc_train_lightcurves.csv ../Data\n",
    "!mv plasticc_train_metadata.csv ../Data"
   ]
  },
  {
   "cell_type": "code",
   "execution_count": 8,
   "metadata": {},
   "outputs": [],
   "source": [
    "DATA_DIR = \"../Data/\""
   ]
  },
  {
   "cell_type": "code",
   "execution_count": 179,
   "metadata": {},
   "outputs": [],
   "source": [
    "class LightCurve():\n",
    "    _pbnames = ['u','g','r','i','z','y']\n",
    "    _cad_num = {\"low\":0, \"high\":1}\n",
    "    \n",
    "    def __init__(self, csv_file, cadence=\"low\"):\n",
    "        raw_data = pd.read_csv(os.path.join(DATA_DIR, csv_file))\n",
    "        self.cadence = cadence\n",
    "        self.light_curves = raw_data[raw_data[\"detected_bool\"]==self._cad_num[cadence]]\n",
    "        \n",
    "        self.unique_ids = self.light_curves['object_id'].unique()\n",
    "        self.ids = {_id: self.unique_ids[_id] for _id in np.arange(len(self.unique_ids)) }\n",
    "   \n",
    "    def show_lightcurves_by_id(self, _id, band=\"all\"):\n",
    "        object_id = self.ids[_id]\n",
    "        curves = self.light_curves[self.light_curves['object_id']==object_id]\n",
    "        if band != \"all\":\n",
    "            index_band = self._pbnames.index(band)\n",
    "            curve_in_band = curves[curves['passband']==index_band]\n",
    "            curve_x = curve_in_band['mjd'].values\n",
    "            curve_y = curve_in_band['flux'].values\n",
    "            plt.scatter(curve_x, curve_y)\n",
    "            plt.title(f\"{object_id=}\")\n",
    "            plt.show()\n",
    "            return\n",
    "        \n",
    "        for index_band in range(len(self._pbnames)):\n",
    "            curve_in_band = curves[curves['passband']==index_band]\n",
    "            curves_x = curve_in_band['mjd'].values\n",
    "            curves_y = curve_in_band['flux'].values\n",
    "            plt.scatter(curves_x, curves_y)\n",
    "            plt.title(f\"{object_id=}\")\n",
    "        plt.show()\n",
    "        return\n",
    "    \n",
    "    def get_matrix_lightcurve(self, _id, band=\"u\", band_height=10):\n",
    "        object_id = self.ids[_id]\n",
    "        curves = self.light_curves[self.light_curves['object_id']==object_id]\n",
    "        k = 6 if band==\"all\" else 1\n",
    "        if self.cadence == \"high\":\n",
    "            data = np.zeros((k*band_height,900))\n",
    "        elif self.cadence == \"low\":\n",
    "            data = np.zeros((k*band_height,900))\n",
    "        \n",
    "        if band != \"all\":\n",
    "            index_band = self._pbnames.index(band)\n",
    "            curve = self.light_curves[self.light_curves['object_id']==object_id]\n",
    "            data_band = curve[curve[\"passband\"]==index_band][['mjd','flux']].values\n",
    "        \n",
    "            data_band[:,0] -= data_band[:,0].min()\n",
    "            data_band[:,0] = np.round(data_band[:,0])\n",
    "\n",
    "            for i in range(band_height):\n",
    "                data[i][data_band[:,0].astype(int)] = data_band[:,1]\n",
    "            return data\n",
    "        \n",
    "        \n",
    "        for index_band in range(len(self._pbnames)):\n",
    "            curve = self.light_curves[self.light_curves['object_id']==object_id]\n",
    "            data_band = curve[curve[\"passband\"]==index_band][['mjd','flux']].values\n",
    "            if len(data_band)==0: \n",
    "                continue\n",
    "            data_band[:,0] -= data_band[:,0].min()\n",
    "            data_band[:,0] = np.round(data_band[:,0])\n",
    "            for m in np.arange(index_band*band_height, band_height*(index_band+1)):\n",
    "                data[m][data_band[:,0].astype(int)] = data_band[:,1]\n",
    "                \n",
    "        return data\n",
    "    \n",
    "    def __compress_matrix_lightcurve__(self, matrix, band_height = 10, width = 60):\n",
    "        zip_matrix = np.zeros((matrix.shape[0], width))\n",
    "        \n",
    "        for row in np.arange(0, matrix.shape[0], matrix.shape[0]//band_height):\n",
    "            for col in np.arange(0, matrix.shape[1], matrix.shape[1]//width):\n",
    "                data, n = 0, 0\n",
    "                for sub_col in np.arange(col, col + matrix.shape[1]//width):\n",
    "                    data += matrix[row, sub_col] \n",
    "                    n += 1\n",
    "                for sub_row in np.arange(row, row + matrix.shape[0]//band_height):\n",
    "                    zip_matrix[sub_row,col//(matrix.shape[1]//width)] = data/n\n",
    "        return zip_matrix"
   ]
  },
  {
   "cell_type": "code",
   "execution_count": 198,
   "metadata": {},
   "outputs": [
    {
     "data": {
      "text/plain": [
       "<matplotlib.image.AxesImage at 0x7f0c7f413880>"
      ]
     },
     "execution_count": 198,
     "metadata": {},
     "output_type": "execute_result"
    },
    {
     "data": {
      "image/png": "[encoded data removed]",
      "text/plain": [
       "<Figure size 432x288 with 1 Axes>"
      ]
     },
     "metadata": {
      "needs_background": "light"
     },
     "output_type": "display_data"
    }
   ],
   "source": [
    "lc = LightCurve(\"plasticc_train_lightcurves.csv\", \"high\")\n",
    "data = lc.get_matrix_lightcurve(7080, \"all\")\n",
    "plt.imshow(data, cmap='gray')"
   ]
  },
  {
   "cell_type": "code",
   "execution_count": 199,
   "metadata": {},
   "outputs": [
    {
     "data": {
      "text/plain": [
       "<matplotlib.image.AxesImage at 0x7f0c7f515af0>"
      ]
     },
     "execution_count": 199,
     "metadata": {},
     "output_type": "execute_result"
    },
    {
     "data": {
      "image/png": "[encoded data removed]",
      "text/plain": [
       "<Figure size 432x288 with 1 Axes>"
      ]
     },
     "metadata": {
      "needs_background": "light"
     },
     "output_type": "display_data"
    }
   ],
   "source": [
    "zip_data = lc.__compress_matrix_lightcurve__(data)\n",
    "plt.imshow(zip_data, cmap='gray')"
   ]
  },
  {
   "cell_type": "code",
   "execution_count": 200,
   "metadata": {},
   "outputs": [
    {
     "data": {
      "image/png": "[encoded data removed]",
      "text/plain": [
       "<Figure size 432x288 with 1 Axes>"
      ]
     },
     "metadata": {
      "needs_background": "light"
     },
     "output_type": "display_data"
    }
   ],
   "source": [
    "lc = LightCurve(\"plasticc_train_lightcurves.csv\", \"high\")\n",
    "lc.show_lightcurves_by_id(7080)"
   ]
  },
  {
   "cell_type": "code",
   "execution_count": 116,
   "metadata": {},
   "outputs": [],
   "source": [
    "size = (10,100)"
   ]
  }
 ],
 "metadata": {
  "kernelspec": {
   "display_name": "Python 3",
   "language": "python",
   "name": "python3"
  },
  "language_info": {
   "codemirror_mode": {
    "name": "ipython",
    "version": 3
   },
   "file_extension": ".py",
   "mimetype": "text/x-python",
   "name": "python",
   "nbconvert_exporter": "python",
   "pygments_lexer": "ipython3",
   "version": "3.8.5"
  }
 },
 "nbformat": 4,
 "nbformat_minor": 4
}
