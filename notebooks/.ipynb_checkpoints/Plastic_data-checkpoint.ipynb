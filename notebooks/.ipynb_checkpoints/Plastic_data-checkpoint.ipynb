{
 "cells": [
  {
   "cell_type": "code",
   "execution_count": 1,
   "metadata": {},
   "outputs": [],
   "source": [
    "import pandas as pd\n",
    "import numpy as np\n",
    "import matplotlib.pyplot as plt\n",
    "import os"
   ]
  },
  {
   "cell_type": "code",
   "execution_count": 2,
   "metadata": {},
   "outputs": [],
   "source": [
    "DATA_DIR = \"../plastic_data/\""
   ]
  },
  {
   "cell_type": "code",
   "execution_count": 3,
   "metadata": {},
   "outputs": [],
   "source": [
    "class LightCurve():\n",
    "    _pbnames = ['u','g','r','i','z','y']\n",
    "    _cad_num = {\"low\":0, \"high\":1}\n",
    "    \n",
    "    def __init__(self, csv_file, cadence=\"low\"):\n",
    "        raw_data = pd.read_csv(os.path.join(DATA_DIR, csv_file))\n",
    "        self.cadence = cadence\n",
    "        self.light_curves = raw_data[raw_data[\"detected_bool\"]==self._cad_num[cadence]]\n",
    "        \n",
    "        self.unique_ids = self.light_curves['object_id'].unique()\n",
    "        self.ids = {_id: self.unique_ids[_id] for _id in np.arange(len(self.unique_ids)) }\n",
    "   \n",
    "    def show_lightcurves_by_id(self, _id, band=\"all\"):\n",
    "        object_id = self.ids[_id]\n",
    "        curves = self.light_curves[self.light_curves['object_id']==object_id]\n",
    "        if band != \"all\":\n",
    "            index_band = self._pbnames.index(band)\n",
    "            curve_in_band = curves[curves['passband']==index_band]\n",
    "            curve_x = curve_in_band['mjd'].values\n",
    "            curve_y = curve_in_band['flux'].values\n",
    "            plt.scatter(curve_x, curve_y)\n",
    "            plt.title(f\"{object_id=}\")\n",
    "            plt.show()\n",
    "            return\n",
    "        \n",
    "        for index_band in range(len(self._pbnames)):\n",
    "            curve_in_band = curves[curves['passband']==index_band]\n",
    "            curves_x = curve_in_band['mjd'].values\n",
    "            curves_y = curve_in_band['flux'].values\n",
    "            plt.scatter(curves_x, curves_y)\n",
    "            plt.title(f\"{object_id=}\")\n",
    "        plt.show()\n",
    "        return\n",
    "    \n",
    "    def get_matrix_lightcurve(self, _id, band=\"u\", band_height=100):\n",
    "        object_id = self.ids[_id]\n",
    "        curves = self.light_curves[self.light_curves['object_id']==object_id]\n",
    "        k = 6 if band==\"all\" else 1\n",
    "        if self.cadence == \"high\":\n",
    "            data = np.zeros((k*band_height,501))\n",
    "        elif self.cadence == \"low\":\n",
    "            data = np.zeros((k*band_height,901))\n",
    "        \n",
    "        if band != \"all\":\n",
    "            index_band = self._pbnames.index(band)\n",
    "            curve = self.light_curves[self.light_curves['object_id']==object_id]\n",
    "            data_band = curve[curve[\"passband\"]==index_band][['mjd','flux']].values\n",
    "        \n",
    "            data_band[:,0] -= data_band[:,0].min()\n",
    "            data_band[:,0] = np.round(data_band[:,0])\n",
    "\n",
    "            for i in range(band_height):\n",
    "                data[i][data_band[:,0].astype(int)] = data_band[:,1]\n",
    "            return data\n",
    "        \n",
    "        \n",
    "        for index_band in range(len(self._pbnames)):\n",
    "            curve = self.light_curves[self.light_curves['object_id']==object_id]\n",
    "            data_band = curve[curve[\"passband\"]==index_band][['mjd','flux']].values\n",
    "            if len(data_band)==0: \n",
    "                continue\n",
    "            data_band[:,0] -= data_band[:,0].min()\n",
    "            data_band[:,0] = np.round(data_band[:,0])\n",
    "            for m in np.arange(index_band*band_height, band_height*(index_band+1)):\n",
    "                data[m][data_band[:,0].astype(int)] = data_band[:,1]\n",
    "                \n",
    "        return data"
   ]
  },
  {
   "cell_type": "code",
   "execution_count": 23,
   "metadata": {},
   "outputs": [
    {
     "data": {
      "text/plain": [
       "<matplotlib.image.AxesImage at 0x7f92f715e0a0>"
      ]
     },
     "execution_count": 23,
     "metadata": {},
     "output_type": "execute_result"
    },
    {
     "data": {
      "image/png": "[encoded data removed]",
      "text/plain": [
       "<Figure size 432x288 with 1 Axes>"
      ]
     },
     "metadata": {
      "needs_background": "light"
     },
     "output_type": "display_data"
    }
   ],
   "source": [
    "lc = LightCurve(\"plasticc_train_lightcurves.csv\", \"high\")\n",
    "data = lc.get_matrix_lightcurve(200, \"all\")\n",
    "plt.imshow(data, cmap='gray')"
   ]
  },
  {
   "cell_type": "code",
   "execution_count": 25,
   "metadata": {},
   "outputs": [
    {
     "data": {
      "image/png": "[encoded data removed]",
      "text/plain": [
       "<Figure size 432x288 with 1 Axes>"
      ]
     },
     "metadata": {
      "needs_background": "light"
     },
     "output_type": "display_data"
    }
   ],
   "source": [
    "lc = LightCurve(\"plasticc_train_lightcurves.csv\", \"high\")\n",
    "lc.show_lightcurves_by_id(200,'all')"
   ]
  },
  {
   "cell_type": "code",
   "execution_count": null,
   "metadata": {},
   "outputs": [],
   "source": []
  }
 ],
 "metadata": {
  "kernelspec": {
   "display_name": "Python 3",
   "language": "python",
   "name": "python3"
  },
  "language_info": {
   "codemirror_mode": {
    "name": "ipython",
    "version": 3
   },
   "file_extension": ".py",
   "mimetype": "text/x-python",
   "name": "python",
   "nbconvert_exporter": "python",
   "pygments_lexer": "ipython3",
   "version": "3.8.5"
  }
 },
 "nbformat": 4,
 "nbformat_minor": 4
}
